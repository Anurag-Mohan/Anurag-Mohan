{
  "nbformat": 4,
  "nbformat_minor": 0,
  "metadata": {
    "colab": {
      "provenance": [],
      "authorship_tag": "ABX9TyPdwe7SVq46QCdy96YfyzpP",
      "include_colab_link": true
    },
    "kernelspec": {
      "name": "python3",
      "display_name": "Python 3"
    },
    "language_info": {
      "name": "python"
    }
  },
  "cells": [
    {
      "cell_type": "markdown",
      "metadata": {
        "id": "view-in-github",
        "colab_type": "text"
      },
      "source": [
        "<a href=\"https://colab.research.google.com/github/Anurag-Mohan/Anurag-Mohan/blob/main/AmazonData.ipynb\" target=\"_parent\"><img src=\"https://colab.research.google.com/assets/colab-badge.svg\" alt=\"Open In Colab\"/></a>"
      ]
    },
    {
      "cell_type": "code",
      "execution_count": 3,
      "metadata": {
        "colab": {
          "base_uri": "https://localhost:8080/",
          "height": 206
        },
        "id": "PP0xNNL2gySY",
        "outputId": "ff0745c9-5f3c-4ed2-ef5e-bd73c84fba6d"
      },
      "outputs": [
        {
          "output_type": "execute_result",
          "data": {
            "text/plain": [
              "                                                Name  \\\n",
              "0                      10-Day Green Smoothie Cleanse   \n",
              "1                                  11/22/63: A Novel   \n",
              "2            12 Rules for Life: An Antidote to Chaos   \n",
              "3                             1984 (Signet Classics)   \n",
              "4  5,000 Awesome Facts (About Everything!) (Natio...   \n",
              "\n",
              "                     Author  User Rating  Reviews  Price  Year        Genre  \n",
              "0                  JJ Smith          4.7    17350      8  2016  Non Fiction  \n",
              "1              Stephen King          4.6     2052     22  2011      Fiction  \n",
              "2        Jordan B. Peterson          4.7    18979     15  2018  Non Fiction  \n",
              "3             George Orwell          4.7    21424      6  2017      Fiction  \n",
              "4  National Geographic Kids          4.8     7665     12  2019  Non Fiction  "
            ],
            "text/html": [
              "\n",
              "  <div id=\"df-9414cb71-a1f8-43ca-8435-2253d72cf756\" class=\"colab-df-container\">\n",
              "    <div>\n",
              "<style scoped>\n",
              "    .dataframe tbody tr th:only-of-type {\n",
              "        vertical-align: middle;\n",
              "    }\n",
              "\n",
              "    .dataframe tbody tr th {\n",
              "        vertical-align: top;\n",
              "    }\n",
              "\n",
              "    .dataframe thead th {\n",
              "        text-align: right;\n",
              "    }\n",
              "</style>\n",
              "<table border=\"1\" class=\"dataframe\">\n",
              "  <thead>\n",
              "    <tr style=\"text-align: right;\">\n",
              "      <th></th>\n",
              "      <th>Name</th>\n",
              "      <th>Author</th>\n",
              "      <th>User Rating</th>\n",
              "      <th>Reviews</th>\n",
              "      <th>Price</th>\n",
              "      <th>Year</th>\n",
              "      <th>Genre</th>\n",
              "    </tr>\n",
              "  </thead>\n",
              "  <tbody>\n",
              "    <tr>\n",
              "      <th>0</th>\n",
              "      <td>10-Day Green Smoothie Cleanse</td>\n",
              "      <td>JJ Smith</td>\n",
              "      <td>4.7</td>\n",
              "      <td>17350</td>\n",
              "      <td>8</td>\n",
              "      <td>2016</td>\n",
              "      <td>Non Fiction</td>\n",
              "    </tr>\n",
              "    <tr>\n",
              "      <th>1</th>\n",
              "      <td>11/22/63: A Novel</td>\n",
              "      <td>Stephen King</td>\n",
              "      <td>4.6</td>\n",
              "      <td>2052</td>\n",
              "      <td>22</td>\n",
              "      <td>2011</td>\n",
              "      <td>Fiction</td>\n",
              "    </tr>\n",
              "    <tr>\n",
              "      <th>2</th>\n",
              "      <td>12 Rules for Life: An Antidote to Chaos</td>\n",
              "      <td>Jordan B. Peterson</td>\n",
              "      <td>4.7</td>\n",
              "      <td>18979</td>\n",
              "      <td>15</td>\n",
              "      <td>2018</td>\n",
              "      <td>Non Fiction</td>\n",
              "    </tr>\n",
              "    <tr>\n",
              "      <th>3</th>\n",
              "      <td>1984 (Signet Classics)</td>\n",
              "      <td>George Orwell</td>\n",
              "      <td>4.7</td>\n",
              "      <td>21424</td>\n",
              "      <td>6</td>\n",
              "      <td>2017</td>\n",
              "      <td>Fiction</td>\n",
              "    </tr>\n",
              "    <tr>\n",
              "      <th>4</th>\n",
              "      <td>5,000 Awesome Facts (About Everything!) (Natio...</td>\n",
              "      <td>National Geographic Kids</td>\n",
              "      <td>4.8</td>\n",
              "      <td>7665</td>\n",
              "      <td>12</td>\n",
              "      <td>2019</td>\n",
              "      <td>Non Fiction</td>\n",
              "    </tr>\n",
              "  </tbody>\n",
              "</table>\n",
              "</div>\n",
              "    <div class=\"colab-df-buttons\">\n",
              "\n",
              "  <div class=\"colab-df-container\">\n",
              "    <button class=\"colab-df-convert\" onclick=\"convertToInteractive('df-9414cb71-a1f8-43ca-8435-2253d72cf756')\"\n",
              "            title=\"Convert this dataframe to an interactive table.\"\n",
              "            style=\"display:none;\">\n",
              "\n",
              "  <svg xmlns=\"http://www.w3.org/2000/svg\" height=\"24px\" viewBox=\"0 -960 960 960\">\n",
              "    <path d=\"M120-120v-720h720v720H120Zm60-500h600v-160H180v160Zm220 220h160v-160H400v160Zm0 220h160v-160H400v160ZM180-400h160v-160H180v160Zm440 0h160v-160H620v160ZM180-180h160v-160H180v160Zm440 0h160v-160H620v160Z\"/>\n",
              "  </svg>\n",
              "    </button>\n",
              "\n",
              "  <style>\n",
              "    .colab-df-container {\n",
              "      display:flex;\n",
              "      gap: 12px;\n",
              "    }\n",
              "\n",
              "    .colab-df-convert {\n",
              "      background-color: #E8F0FE;\n",
              "      border: none;\n",
              "      border-radius: 50%;\n",
              "      cursor: pointer;\n",
              "      display: none;\n",
              "      fill: #1967D2;\n",
              "      height: 32px;\n",
              "      padding: 0 0 0 0;\n",
              "      width: 32px;\n",
              "    }\n",
              "\n",
              "    .colab-df-convert:hover {\n",
              "      background-color: #E2EBFA;\n",
              "      box-shadow: 0px 1px 2px rgba(60, 64, 67, 0.3), 0px 1px 3px 1px rgba(60, 64, 67, 0.15);\n",
              "      fill: #174EA6;\n",
              "    }\n",
              "\n",
              "    .colab-df-buttons div {\n",
              "      margin-bottom: 4px;\n",
              "    }\n",
              "\n",
              "    [theme=dark] .colab-df-convert {\n",
              "      background-color: #3B4455;\n",
              "      fill: #D2E3FC;\n",
              "    }\n",
              "\n",
              "    [theme=dark] .colab-df-convert:hover {\n",
              "      background-color: #434B5C;\n",
              "      box-shadow: 0px 1px 3px 1px rgba(0, 0, 0, 0.15);\n",
              "      filter: drop-shadow(0px 1px 2px rgba(0, 0, 0, 0.3));\n",
              "      fill: #FFFFFF;\n",
              "    }\n",
              "  </style>\n",
              "\n",
              "    <script>\n",
              "      const buttonEl =\n",
              "        document.querySelector('#df-9414cb71-a1f8-43ca-8435-2253d72cf756 button.colab-df-convert');\n",
              "      buttonEl.style.display =\n",
              "        google.colab.kernel.accessAllowed ? 'block' : 'none';\n",
              "\n",
              "      async function convertToInteractive(key) {\n",
              "        const element = document.querySelector('#df-9414cb71-a1f8-43ca-8435-2253d72cf756');\n",
              "        const dataTable =\n",
              "          await google.colab.kernel.invokeFunction('convertToInteractive',\n",
              "                                                    [key], {});\n",
              "        if (!dataTable) return;\n",
              "\n",
              "        const docLinkHtml = 'Like what you see? Visit the ' +\n",
              "          '<a target=\"_blank\" href=https://colab.research.google.com/notebooks/data_table.ipynb>data table notebook</a>'\n",
              "          + ' to learn more about interactive tables.';\n",
              "        element.innerHTML = '';\n",
              "        dataTable['output_type'] = 'display_data';\n",
              "        await google.colab.output.renderOutput(dataTable, element);\n",
              "        const docLink = document.createElement('div');\n",
              "        docLink.innerHTML = docLinkHtml;\n",
              "        element.appendChild(docLink);\n",
              "      }\n",
              "    </script>\n",
              "  </div>\n",
              "\n",
              "\n",
              "    <div id=\"df-0bdc03e4-4bf2-4686-80bb-a7cf94e023a0\">\n",
              "      <button class=\"colab-df-quickchart\" onclick=\"quickchart('df-0bdc03e4-4bf2-4686-80bb-a7cf94e023a0')\"\n",
              "                title=\"Suggest charts\"\n",
              "                style=\"display:none;\">\n",
              "\n",
              "<svg xmlns=\"http://www.w3.org/2000/svg\" height=\"24px\"viewBox=\"0 0 24 24\"\n",
              "     width=\"24px\">\n",
              "    <g>\n",
              "        <path d=\"M19 3H5c-1.1 0-2 .9-2 2v14c0 1.1.9 2 2 2h14c1.1 0 2-.9 2-2V5c0-1.1-.9-2-2-2zM9 17H7v-7h2v7zm4 0h-2V7h2v10zm4 0h-2v-4h2v4z\"/>\n",
              "    </g>\n",
              "</svg>\n",
              "      </button>\n",
              "\n",
              "<style>\n",
              "  .colab-df-quickchart {\n",
              "      --bg-color: #E8F0FE;\n",
              "      --fill-color: #1967D2;\n",
              "      --hover-bg-color: #E2EBFA;\n",
              "      --hover-fill-color: #174EA6;\n",
              "      --disabled-fill-color: #AAA;\n",
              "      --disabled-bg-color: #DDD;\n",
              "  }\n",
              "\n",
              "  [theme=dark] .colab-df-quickchart {\n",
              "      --bg-color: #3B4455;\n",
              "      --fill-color: #D2E3FC;\n",
              "      --hover-bg-color: #434B5C;\n",
              "      --hover-fill-color: #FFFFFF;\n",
              "      --disabled-bg-color: #3B4455;\n",
              "      --disabled-fill-color: #666;\n",
              "  }\n",
              "\n",
              "  .colab-df-quickchart {\n",
              "    background-color: var(--bg-color);\n",
              "    border: none;\n",
              "    border-radius: 50%;\n",
              "    cursor: pointer;\n",
              "    display: none;\n",
              "    fill: var(--fill-color);\n",
              "    height: 32px;\n",
              "    padding: 0;\n",
              "    width: 32px;\n",
              "  }\n",
              "\n",
              "  .colab-df-quickchart:hover {\n",
              "    background-color: var(--hover-bg-color);\n",
              "    box-shadow: 0 1px 2px rgba(60, 64, 67, 0.3), 0 1px 3px 1px rgba(60, 64, 67, 0.15);\n",
              "    fill: var(--button-hover-fill-color);\n",
              "  }\n",
              "\n",
              "  .colab-df-quickchart-complete:disabled,\n",
              "  .colab-df-quickchart-complete:disabled:hover {\n",
              "    background-color: var(--disabled-bg-color);\n",
              "    fill: var(--disabled-fill-color);\n",
              "    box-shadow: none;\n",
              "  }\n",
              "\n",
              "  .colab-df-spinner {\n",
              "    border: 2px solid var(--fill-color);\n",
              "    border-color: transparent;\n",
              "    border-bottom-color: var(--fill-color);\n",
              "    animation:\n",
              "      spin 1s steps(1) infinite;\n",
              "  }\n",
              "\n",
              "  @keyframes spin {\n",
              "    0% {\n",
              "      border-color: transparent;\n",
              "      border-bottom-color: var(--fill-color);\n",
              "      border-left-color: var(--fill-color);\n",
              "    }\n",
              "    20% {\n",
              "      border-color: transparent;\n",
              "      border-left-color: var(--fill-color);\n",
              "      border-top-color: var(--fill-color);\n",
              "    }\n",
              "    30% {\n",
              "      border-color: transparent;\n",
              "      border-left-color: var(--fill-color);\n",
              "      border-top-color: var(--fill-color);\n",
              "      border-right-color: var(--fill-color);\n",
              "    }\n",
              "    40% {\n",
              "      border-color: transparent;\n",
              "      border-right-color: var(--fill-color);\n",
              "      border-top-color: var(--fill-color);\n",
              "    }\n",
              "    60% {\n",
              "      border-color: transparent;\n",
              "      border-right-color: var(--fill-color);\n",
              "    }\n",
              "    80% {\n",
              "      border-color: transparent;\n",
              "      border-right-color: var(--fill-color);\n",
              "      border-bottom-color: var(--fill-color);\n",
              "    }\n",
              "    90% {\n",
              "      border-color: transparent;\n",
              "      border-bottom-color: var(--fill-color);\n",
              "    }\n",
              "  }\n",
              "</style>\n",
              "\n",
              "      <script>\n",
              "        async function quickchart(key) {\n",
              "          const quickchartButtonEl =\n",
              "            document.querySelector('#' + key + ' button');\n",
              "          quickchartButtonEl.disabled = true;  // To prevent multiple clicks.\n",
              "          quickchartButtonEl.classList.add('colab-df-spinner');\n",
              "          try {\n",
              "            const charts = await google.colab.kernel.invokeFunction(\n",
              "                'suggestCharts', [key], {});\n",
              "          } catch (error) {\n",
              "            console.error('Error during call to suggestCharts:', error);\n",
              "          }\n",
              "          quickchartButtonEl.classList.remove('colab-df-spinner');\n",
              "          quickchartButtonEl.classList.add('colab-df-quickchart-complete');\n",
              "        }\n",
              "        (() => {\n",
              "          let quickchartButtonEl =\n",
              "            document.querySelector('#df-0bdc03e4-4bf2-4686-80bb-a7cf94e023a0 button');\n",
              "          quickchartButtonEl.style.display =\n",
              "            google.colab.kernel.accessAllowed ? 'block' : 'none';\n",
              "        })();\n",
              "      </script>\n",
              "    </div>\n",
              "\n",
              "    </div>\n",
              "  </div>\n"
            ],
            "application/vnd.google.colaboratory.intrinsic+json": {
              "type": "dataframe",
              "variable_name": "df",
              "summary": "{\n  \"name\": \"df\",\n  \"rows\": 550,\n  \"fields\": [\n    {\n      \"column\": \"Name\",\n      \"properties\": {\n        \"dtype\": \"string\",\n        \"num_unique_values\": 351,\n        \"samples\": [\n          \"Life\",\n          \"Where the Crawdads Sing\",\n          \"Thinking, Fast and Slow\"\n        ],\n        \"semantic_type\": \"\",\n        \"description\": \"\"\n      }\n    },\n    {\n      \"column\": \"Author\",\n      \"properties\": {\n        \"dtype\": \"category\",\n        \"num_unique_values\": 248,\n        \"samples\": [\n          \"Jeff Kinney\",\n          \"Amor Towles\",\n          \"Stieg Larsson\"\n        ],\n        \"semantic_type\": \"\",\n        \"description\": \"\"\n      }\n    },\n    {\n      \"column\": \"User Rating\",\n      \"properties\": {\n        \"dtype\": \"number\",\n        \"std\": 0.22698036502519578,\n        \"min\": 3.3,\n        \"max\": 4.9,\n        \"num_unique_values\": 14,\n        \"samples\": [\n          3.8,\n          4.0,\n          4.7\n        ],\n        \"semantic_type\": \"\",\n        \"description\": \"\"\n      }\n    },\n    {\n      \"column\": \"Reviews\",\n      \"properties\": {\n        \"dtype\": \"number\",\n        \"std\": 11731,\n        \"min\": 37,\n        \"max\": 87841,\n        \"num_unique_values\": 346,\n        \"samples\": [\n          5972,\n          1884,\n          49288\n        ],\n        \"semantic_type\": \"\",\n        \"description\": \"\"\n      }\n    },\n    {\n      \"column\": \"Price\",\n      \"properties\": {\n        \"dtype\": \"number\",\n        \"std\": 10,\n        \"min\": 0,\n        \"max\": 105,\n        \"num_unique_values\": 40,\n        \"samples\": [\n          0,\n          24,\n          9\n        ],\n        \"semantic_type\": \"\",\n        \"description\": \"\"\n      }\n    },\n    {\n      \"column\": \"Year\",\n      \"properties\": {\n        \"dtype\": \"number\",\n        \"std\": 3,\n        \"min\": 2009,\n        \"max\": 2019,\n        \"num_unique_values\": 11,\n        \"samples\": [\n          2014,\n          2016,\n          2013\n        ],\n        \"semantic_type\": \"\",\n        \"description\": \"\"\n      }\n    },\n    {\n      \"column\": \"Genre\",\n      \"properties\": {\n        \"dtype\": \"category\",\n        \"num_unique_values\": 2,\n        \"samples\": [\n          \"Fiction\",\n          \"Non Fiction\"\n        ],\n        \"semantic_type\": \"\",\n        \"description\": \"\"\n      }\n    }\n  ]\n}"
            }
          },
          "metadata": {},
          "execution_count": 3
        }
      ],
      "source": [
        "import pandas as pd\n",
        "df = pd.read_csv(\"bestsellers with categories.csv\")\n",
        "df.head()"
      ]
    },
    {
      "cell_type": "code",
      "source": [
        "print(df.info())\n",
        "print(df.describe())\n",
        "df.columns"
      ],
      "metadata": {
        "colab": {
          "base_uri": "https://localhost:8080/"
        },
        "id": "ZaRHQRiYjNPz",
        "outputId": "ed254ad5-9088-4069-d0b9-3c351fb966b0"
      },
      "execution_count": 4,
      "outputs": [
        {
          "output_type": "stream",
          "name": "stdout",
          "text": [
            "<class 'pandas.core.frame.DataFrame'>\n",
            "RangeIndex: 550 entries, 0 to 549\n",
            "Data columns (total 7 columns):\n",
            " #   Column       Non-Null Count  Dtype  \n",
            "---  ------       --------------  -----  \n",
            " 0   Name         550 non-null    object \n",
            " 1   Author       550 non-null    object \n",
            " 2   User Rating  550 non-null    float64\n",
            " 3   Reviews      550 non-null    int64  \n",
            " 4   Price        550 non-null    int64  \n",
            " 5   Year         550 non-null    int64  \n",
            " 6   Genre        550 non-null    object \n",
            "dtypes: float64(1), int64(3), object(3)\n",
            "memory usage: 30.2+ KB\n",
            "None\n",
            "       User Rating       Reviews       Price         Year\n",
            "count   550.000000    550.000000  550.000000   550.000000\n",
            "mean      4.618364  11953.281818   13.100000  2014.000000\n",
            "std       0.226980  11731.132017   10.842262     3.165156\n",
            "min       3.300000     37.000000    0.000000  2009.000000\n",
            "25%       4.500000   4058.000000    7.000000  2011.000000\n",
            "50%       4.700000   8580.000000   11.000000  2014.000000\n",
            "75%       4.800000  17253.250000   16.000000  2017.000000\n",
            "max       4.900000  87841.000000  105.000000  2019.000000\n"
          ]
        },
        {
          "output_type": "execute_result",
          "data": {
            "text/plain": [
              "Index(['Name', 'Author', 'User Rating', 'Reviews', 'Price', 'Year', 'Genre'], dtype='object')"
            ]
          },
          "metadata": {},
          "execution_count": 4
        }
      ]
    },
    {
      "cell_type": "code",
      "source": [
        "print(\"Initial DataFrame Info:\")\n",
        "print(df.info())\n",
        "print(\"\\nMissing values per column:\\n\", df.isnull().sum())"
      ],
      "metadata": {
        "colab": {
          "base_uri": "https://localhost:8080/"
        },
        "id": "zy68RkrQjmG2",
        "outputId": "e94dddf4-9575-4eab-dee1-3457bbc87983"
      },
      "execution_count": 5,
      "outputs": [
        {
          "output_type": "stream",
          "name": "stdout",
          "text": [
            "Initial DataFrame Info:\n",
            "<class 'pandas.core.frame.DataFrame'>\n",
            "RangeIndex: 550 entries, 0 to 549\n",
            "Data columns (total 7 columns):\n",
            " #   Column       Non-Null Count  Dtype  \n",
            "---  ------       --------------  -----  \n",
            " 0   Name         550 non-null    object \n",
            " 1   Author       550 non-null    object \n",
            " 2   User Rating  550 non-null    float64\n",
            " 3   Reviews      550 non-null    int64  \n",
            " 4   Price        550 non-null    int64  \n",
            " 5   Year         550 non-null    int64  \n",
            " 6   Genre        550 non-null    object \n",
            "dtypes: float64(1), int64(3), object(3)\n",
            "memory usage: 30.2+ KB\n",
            "None\n",
            "\n",
            "Missing values per column:\n",
            " Name           0\n",
            "Author         0\n",
            "User Rating    0\n",
            "Reviews        0\n",
            "Price          0\n",
            "Year           0\n",
            "Genre          0\n",
            "dtype: int64\n"
          ]
        }
      ]
    },
    {
      "cell_type": "code",
      "source": [
        "print(\"Duplicate rows:\", df.duplicated().sum())"
      ],
      "metadata": {
        "colab": {
          "base_uri": "https://localhost:8080/"
        },
        "id": "PbsmABJ8j0Ht",
        "outputId": "2197f5a8-baf0-4214-dd85-ffaa0d3b30ba"
      },
      "execution_count": 6,
      "outputs": [
        {
          "output_type": "stream",
          "name": "stdout",
          "text": [
            "Duplicate rows: 0\n"
          ]
        }
      ]
    },
    {
      "cell_type": "code",
      "source": [
        "df = df.drop_duplicates()\n",
        "print(\"Shape after dropping duplicates:\", df.shape)"
      ],
      "metadata": {
        "colab": {
          "base_uri": "https://localhost:8080/"
        },
        "id": "-S7CXDLdj5YY",
        "outputId": "ceea4db2-bc1b-47d3-f8d1-a1642bc8d7cf"
      },
      "execution_count": 7,
      "outputs": [
        {
          "output_type": "stream",
          "name": "stdout",
          "text": [
            "Shape after dropping duplicates: (550, 7)\n"
          ]
        }
      ]
    },
    {
      "cell_type": "code",
      "source": [
        "df.columns = df.columns.str.lower().str.strip().str.replace(' ', '_')\n",
        "print(\"Updated column names:\", df.columns.tolist())"
      ],
      "metadata": {
        "colab": {
          "base_uri": "https://localhost:8080/"
        },
        "id": "dlIaU149kF2R",
        "outputId": "5a2ce09e-625e-4c4b-9fb3-7893dca8ee84"
      },
      "execution_count": 8,
      "outputs": [
        {
          "output_type": "stream",
          "name": "stdout",
          "text": [
            "Updated column names: ['name', 'author', 'user_rating', 'reviews', 'price', 'year', 'genre']\n"
          ]
        }
      ]
    },
    {
      "cell_type": "code",
      "source": [
        "print(df.dtypes)"
      ],
      "metadata": {
        "colab": {
          "base_uri": "https://localhost:8080/"
        },
        "id": "X5UaBcLakQCk",
        "outputId": "d6d479dd-3386-436b-d5d1-c93200e989ef"
      },
      "execution_count": 11,
      "outputs": [
        {
          "output_type": "stream",
          "name": "stdout",
          "text": [
            "name            object\n",
            "author          object\n",
            "user_rating    float64\n",
            "reviews          int64\n",
            "price          float64\n",
            "year             int64\n",
            "genre           object\n",
            "dtype: object\n"
          ]
        }
      ]
    },
    {
      "cell_type": "code",
      "source": [
        "df['price'] = df['price'].replace('[\\$,]', '', regex=True).astype(float)"
      ],
      "metadata": {
        "id": "KFtiClLukchI"
      },
      "execution_count": 10,
      "outputs": []
    },
    {
      "cell_type": "code",
      "source": [
        "df.to_csv(\"cleaned_amazon_data.csv\", index=False)"
      ],
      "metadata": {
        "id": "cd_DlKsyCmxJ"
      },
      "execution_count": 12,
      "outputs": []
    },
    {
      "cell_type": "code",
      "source": [
        "import matplotlib.pyplot as plt\n",
        "import seaborn as sns\n",
        "import numpy as np"
      ],
      "metadata": {
        "id": "bGdLJtTzCrh0"
      },
      "execution_count": 13,
      "outputs": []
    },
    {
      "cell_type": "code",
      "source": [
        "df = pd.read_csv(\"cleaned_amazon_data.csv\")"
      ],
      "metadata": {
        "id": "OU5hKOfkCvjC"
      },
      "execution_count": 14,
      "outputs": []
    },
    {
      "cell_type": "code",
      "source": [
        "top_books = df.sort_values(by='reviews', ascending=False).head(10)\n",
        "\n",
        "plt.figure(figsize=(10,6))\n",
        "sns.barplot(data=top_books, x='reviews', y='name', palette='viridis')\n",
        "plt.title(\"Top 10 Most Reviewed Books\")\n",
        "plt.xlabel(\"Number of Reviews\")\n",
        "plt.ylabel(\"Book Name\")\n",
        "plt.tight_layout()\n",
        "plt.show()"
      ],
      "metadata": {
        "colab": {
          "base_uri": "https://localhost:8080/",
          "height": 714
        },
        "id": "WIApzxkuC1Ui",
        "outputId": "4db010d9-0b06-49bd-edc7-a409c57ca6b1"
      },
      "execution_count": 16,
      "outputs": [
        {
          "output_type": "stream",
          "name": "stderr",
          "text": [
            "<ipython-input-16-dcc453e8d3c7>:4: FutureWarning: \n",
            "\n",
            "Passing `palette` without assigning `hue` is deprecated and will be removed in v0.14.0. Assign the `y` variable to `hue` and set `legend=False` for the same effect.\n",
            "\n",
            "  sns.barplot(data=top_books, x='reviews', y='name', palette='viridis')\n"
          ]
        },
        {
          "output_type": "display_data",
          "data": {
            "text/plain": [
              "<Figure size 1000x600 with 1 Axes>"
            ],
            "image/png": "[encoded data removed]"
          },
          "metadata": {}
        }
      ]
    },
    {
      "cell_type": "code",
      "source": [
        "top_rated = df[df['user_rating'] == df['user_rating'].max()]\n",
        "\n",
        "print(\"Books with Highest User Rating:\")\n",
        "print(top_rated[['name', 'author', 'user_rating']])\n"
      ],
      "metadata": {
        "colab": {
          "base_uri": "https://localhost:8080/"
        },
        "id": "W3r5YVehDbvQ",
        "outputId": "c65c5333-2a07-4a74-8f76-9ef5cb8e13bf"
      },
      "execution_count": 17,
      "outputs": [
        {
          "output_type": "stream",
          "name": "stdout",
          "text": [
            "Books with Highest User Rating:\n",
            "                                                  name                 author  \\\n",
            "40            Brown Bear, Brown Bear, What Do You See?        Bill Martin Jr.   \n",
            "41            Brown Bear, Brown Bear, What Do You See?        Bill Martin Jr.   \n",
            "81   Dog Man and Cat Kid: From the Creator of Capta...             Dav Pilkey   \n",
            "82   Dog Man: A Tale of Two Kitties: From the Creat...             Dav Pilkey   \n",
            "83   Dog Man: Brawl of the Wild: From the Creator o...             Dav Pilkey   \n",
            "84   Dog Man: Brawl of the Wild: From the Creator o...             Dav Pilkey   \n",
            "85   Dog Man: Fetch-22: From the Creator of Captain...             Dav Pilkey   \n",
            "86   Dog Man: For Whom the Ball Rolls: From the Cre...             Dav Pilkey   \n",
            "87   Dog Man: Lord of the Fleas: From the Creator o...             Dav Pilkey   \n",
            "146  Goodnight, Goodnight Construction Site (Hardco...   Sherri Duskey Rinker   \n",
            "147  Goodnight, Goodnight Construction Site (Hardco...   Sherri Duskey Rinker   \n",
            "151                           Hamilton: The Revolution     Lin-Manuel Miranda   \n",
            "153  Harry Potter and the Chamber of Secrets: The I...           J.K. Rowling   \n",
            "155  Harry Potter and the Goblet of Fire: The Illus...          J. K. Rowling   \n",
            "156  Harry Potter and the Prisoner of Azkaban: The ...           J.K. Rowling   \n",
            "157  Harry Potter and the Sorcerer's Stone: The Ill...           J.K. Rowling   \n",
            "174                       Humans of New York : Stories        Brandon Stanton   \n",
            "187  Jesus Calling: Enjoying Peace in His Presence ...            Sarah Young   \n",
            "188  Jesus Calling: Enjoying Peace in His Presence ...            Sarah Young   \n",
            "189  Jesus Calling: Enjoying Peace in His Presence ...            Sarah Young   \n",
            "190  Jesus Calling: Enjoying Peace in His Presence ...            Sarah Young   \n",
            "191  Jesus Calling: Enjoying Peace in His Presence ...            Sarah Young   \n",
            "192  Jesus Calling: Enjoying Peace in His Presence ...            Sarah Young   \n",
            "207  Last Week Tonight with John Oliver Presents A ...             Jill Twiss   \n",
            "219                                  Little Blue Truck         Alice Schertle   \n",
            "244                        Obama: An Intimate Portrait             Pete Souza   \n",
            "245                          Oh, the Places You'll Go!              Dr. Seuss   \n",
            "246                          Oh, the Places You'll Go!              Dr. Seuss   \n",
            "247                          Oh, the Places You'll Go!              Dr. Seuss   \n",
            "248                          Oh, the Places You'll Go!              Dr. Seuss   \n",
            "249                          Oh, the Places You'll Go!              Dr. Seuss   \n",
            "250                          Oh, the Places You'll Go!              Dr. Seuss   \n",
            "251                          Oh, the Places You'll Go!              Dr. Seuss   \n",
            "252                          Oh, the Places You'll Go!              Dr. Seuss   \n",
            "288  Rush Revere and the Brave Pilgrims: Time-Trave...          Rush Limbaugh   \n",
            "289  Rush Revere and the First Patriots: Time-Trave...          Rush Limbaugh   \n",
            "303             Strange Planet (Strange Planet Series)         Nathan W. Pyle   \n",
            "420               The Legend of Zelda: Hyrule Historia         Patrick Thorpe   \n",
            "431                                 The Magnolia Story            Chip Gaines   \n",
            "476                        The Very Hungry Caterpillar             Eric Carle   \n",
            "477                        The Very Hungry Caterpillar             Eric Carle   \n",
            "478                        The Very Hungry Caterpillar             Eric Carle   \n",
            "479                        The Very Hungry Caterpillar             Eric Carle   \n",
            "480                        The Very Hungry Caterpillar             Eric Carle   \n",
            "481                        The Very Hungry Caterpillar             Eric Carle   \n",
            "482                        The Very Hungry Caterpillar             Eric Carle   \n",
            "486                   The Wonderful Things You Will Be  Emily Winfield Martin   \n",
            "487                   The Wonderful Things You Will Be  Emily Winfield Martin   \n",
            "488                   The Wonderful Things You Will Be  Emily Winfield Martin   \n",
            "489                   The Wonderful Things You Will Be  Emily Winfield Martin   \n",
            "521                             Unfreedom of the Press          Mark R. Levin   \n",
            "545       Wrecking Ball (Diary of a Wimpy Kid Book 14)            Jeff Kinney   \n",
            "\n",
            "     user_rating  \n",
            "40           4.9  \n",
            "41           4.9  \n",
            "81           4.9  \n",
            "82           4.9  \n",
            "83           4.9  \n",
            "84           4.9  \n",
            "85           4.9  \n",
            "86           4.9  \n",
            "87           4.9  \n",
            "146          4.9  \n",
            "147          4.9  \n",
            "151          4.9  \n",
            "153          4.9  \n",
            "155          4.9  \n",
            "156          4.9  \n",
            "157          4.9  \n",
            "174          4.9  \n",
            "187          4.9  \n",
            "188          4.9  \n",
            "189          4.9  \n",
            "190          4.9  \n",
            "191          4.9  \n",
            "192          4.9  \n",
            "207          4.9  \n",
            "219          4.9  \n",
            "244          4.9  \n",
            "245          4.9  \n",
            "246          4.9  \n",
            "247          4.9  \n",
            "248          4.9  \n",
            "249          4.9  \n",
            "250          4.9  \n",
            "251          4.9  \n",
            "252          4.9  \n",
            "288          4.9  \n",
            "289          4.9  \n",
            "303          4.9  \n",
            "420          4.9  \n",
            "431          4.9  \n",
            "476          4.9  \n",
            "477          4.9  \n",
            "478          4.9  \n",
            "479          4.9  \n",
            "480          4.9  \n",
            "481          4.9  \n",
            "482          4.9  \n",
            "486          4.9  \n",
            "487          4.9  \n",
            "488          4.9  \n",
            "489          4.9  \n",
            "521          4.9  \n",
            "545          4.9  \n"
          ]
        }
      ]
    },
    {
      "cell_type": "code",
      "source": [
        "avg_price = df.groupby('genre')['price'].mean()\n",
        "\n",
        "avg_price.plot(kind='bar', color='coral')\n",
        "plt.title(\"Average Book Price by Genre\")\n",
        "plt.xlabel(\"Genre\")\n",
        "plt.ylabel(\"Average Price ($)\")\n",
        "plt.tight_layout()\n",
        "plt.show()\n"
      ],
      "metadata": {
        "colab": {
          "base_uri": "https://localhost:8080/",
          "height": 487
        },
        "id": "2_D47eEhEROc",
        "outputId": "fddaad2b-5262-412b-b777-4bdbb000540a"
      },
      "execution_count": 18,
      "outputs": [
        {
          "output_type": "display_data",
          "data": {
            "text/plain": [
              "<Figure size 640x480 with 1 Axes>"
            ],
            "image/png": "[encoded data removed]"
          },
          "metadata": {}
        }
      ]
    },
    {
      "cell_type": "code",
      "source": [
        "yearly_count = df.groupby('year')['name'].count()\n",
        "\n",
        "plt.plot(yearly_count.index, yearly_count.values, marker='o')\n",
        "plt.title(\"Number of Bestsellers per Year\")\n",
        "plt.xlabel(\"Year\")\n",
        "plt.ylabel(\"Count of Bestselling Books\")\n",
        "plt.grid(True)\n",
        "plt.tight_layout()\n",
        "plt.show()"
      ],
      "metadata": {
        "colab": {
          "base_uri": "https://localhost:8080/",
          "height": 487
        },
        "id": "uI6Wy1POEaqE",
        "outputId": "c8da99db-b190-48c7-8747-ae6f6bed7029"
      },
      "execution_count": 21,
      "outputs": [
        {
          "output_type": "display_data",
          "data": {
            "text/plain": [
              "<Figure size 640x480 with 1 Axes>"
            ],
            "image/png": "[encoded data removed]"
          },
          "metadata": {}
        }
      ]
    },
    {
      "cell_type": "code",
      "source": [
        "plt.figure(figsize=(6,4))\n",
        "sns.heatmap(df.corr(numeric_only=True), annot=True, cmap=\"coolwarm\", fmt=\".2f\")\n",
        "plt.title(\"Correlation Matrix\")\n",
        "plt.tight_layout()\n",
        "plt.show()"
      ],
      "metadata": {
        "colab": {
          "base_uri": "https://localhost:8080/",
          "height": 406
        },
        "id": "sFZmf0ifE4fF",
        "outputId": "9d343105-040a-4d10-eff4-c34948201d95"
      },
      "execution_count": 20,
      "outputs": [
        {
          "output_type": "display_data",
          "data": {
            "text/plain": [
              "<Figure size 600x400 with 2 Axes>"
            ],
            "image/png": "[encoded data removed]"
          },
          "metadata": {}
        }
      ]
    },
    {
      "cell_type": "markdown",
      "source": [
        "Here from this correlation matrix its clear that\n",
        "* **user_rating vs reviews** -0.00 no correlation ( no effect )\n",
        "* **user_rating vs price** -0.13 slight negative correlation ( higher priced books may hav less rating)\n",
        "* **user_rating vs year** 0.24 weak positive ( recent books with higher rating )\n",
        "* **reviews vs price** -0.11 slight negative ( very weak affect of price on review count )\n",
        "* **review vs year** 0.26 weak positive (recent books getting more review)\n",
        "* **price vs year** -0.15 slight negative ( almost no effect , price may be dropping per year )\n",
        "\n",
        "\n",
        "\n",
        "\n"
      ],
      "metadata": {
        "id": "KoucTVqyFSS1"
      }
    },
    {
      "cell_type": "code",
      "source": [],
      "metadata": {
        "id": "H0MrBqlfFZ09"
      },
      "execution_count": null,
      "outputs": []
    }
  ]
}